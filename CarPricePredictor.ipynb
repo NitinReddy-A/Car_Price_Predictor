{
  "cells": [
    {
      "cell_type": "code",
      "execution_count": null,
      "metadata": {
        "colab": {
          "base_uri": "https://localhost:8080/"
        },
        "id": "uZe2lT1H26ol",
        "outputId": "e294970f-4289-45e6-8c03-683962ecdcdc"
      },
      "outputs": [],
      "source": [
        "!pip install seaborn\n",
        "!pip install scikit-learn"
      ]
    },
    {
      "cell_type": "markdown",
      "metadata": {
        "id": "Tp_WRu4UFuRO"
      },
      "source": [
        "# **Imports**"
      ]
    },
    {
      "cell_type": "code",
      "execution_count": null,
      "metadata": {
        "id": "Sd_NXG3n3DR8"
      },
      "outputs": [],
      "source": [
        "import pandas as pd\n",
        "import numpy as np\n",
        "import matplotlib.pyplot as plt\n",
        "import seaborn as sns\n",
        "from sklearn.model_selection import train_test_split\n",
        "from sklearn.linear_model import LinearRegression\n",
        "from sklearn.metrics import mean_absolute_error, mean_squared_error"
      ]
    },
    {
      "cell_type": "code",
      "execution_count": null,
      "metadata": {
        "id": "MJNdDzqI3VW0"
      },
      "outputs": [],
      "source": [
        "data_url = 'dataset/CarPrice_Assignment.csv'\n",
        "data = pd.read_csv(data_url)"
      ]
    },
    {
      "cell_type": "markdown",
      "metadata": {
        "id": "t4iNvMvDEPfl"
      },
      "source": [
        "# **Exploratory Data Analysis**"
      ]
    },
    {
      "cell_type": "code",
      "execution_count": null,
      "metadata": {
        "colab": {
          "base_uri": "https://localhost:8080/"
        },
        "id": "XlOPJbOu3cCR",
        "outputId": "fa416d3d-4a3a-4c96-dc00-7c762486b127"
      },
      "outputs": [],
      "source": [
        "print(data.head())"
      ]
    },
    {
      "cell_type": "code",
      "execution_count": null,
      "metadata": {
        "colab": {
          "base_uri": "https://localhost:8080/"
        },
        "id": "_vnrtAPk3eWK",
        "outputId": "668971cf-cc3e-4d61-dd26-f67716d57d35"
      },
      "outputs": [],
      "source": [
        "# Check for missing values\n",
        "print(data.isnull().sum())"
      ]
    },
    {
      "cell_type": "code",
      "execution_count": null,
      "metadata": {
        "colab": {
          "base_uri": "https://localhost:8080/"
        },
        "id": "jimddc6r3hqG",
        "outputId": "51d7f6cd-3c85-4fc6-af57-0d68eff45a64"
      },
      "outputs": [],
      "source": [
        "print(data.describe())"
      ]
    },
    {
      "cell_type": "code",
      "execution_count": null,
      "metadata": {
        "colab": {
          "base_uri": "https://localhost:8080/",
          "height": 564
        },
        "id": "6kjSgMrZ3kW8",
        "outputId": "d023c804-2aef-48fb-f5a4-786e39e8f471"
      },
      "outputs": [],
      "source": [
        "# Distribution of Car Prices\n",
        "plt.figure(figsize=(10, 6))\n",
        "sns.histplot(data['price'], kde=True)\n",
        "plt.title('Distribution of Car Prices')\n",
        "plt.xlabel('Price')\n",
        "plt.ylabel('Frequency')\n",
        "plt.show()"
      ]
    },
    {
      "cell_type": "code",
      "execution_count": null,
      "metadata": {
        "colab": {
          "base_uri": "https://localhost:8080/",
          "height": 601
        },
        "id": "D6tlK50z3nJ8",
        "outputId": "a0eb115e-9ac2-498c-c143-9b726f015e36"
      },
      "outputs": [],
      "source": [
        "# Box Plot of Car Prices by Horespower\n",
        "plt.figure(figsize=(12, 8))\n",
        "sns.boxplot(data=data, x='horsepower', y='price')\n",
        "plt.title('Box Plot of Car Prices by Horsepower')\n",
        "plt.xlabel('Horsepower')\n",
        "plt.ylabel('Price')\n",
        "plt.show()"
      ]
    },
    {
      "cell_type": "code",
      "execution_count": null,
      "metadata": {
        "colab": {
          "base_uri": "https://localhost:8080/",
          "height": 873
        },
        "id": "1DxbJ_Rv3qLi",
        "outputId": "cb70590b-5213-4716-e729-3e8b16e98fdd"
      },
      "outputs": [],
      "source": [
        "# Pairplot of Selected Features\n",
        "selected_features = ['price', 'horsepower', 'curbweight', 'enginesize', 'highwaympg']\n",
        "sns.pairplot(data[selected_features])\n",
        "plt.show()"
      ]
    },
    {
      "cell_type": "markdown",
      "metadata": {
        "id": "CCRfDKwaFoZm"
      },
      "source": [
        "# **Machine Learning Techniques**"
      ]
    },
    {
      "cell_type": "code",
      "execution_count": null,
      "metadata": {
        "id": "-Xg7F85y8fZK"
      },
      "outputs": [],
      "source": [
        "# Selecting features and target variable\n",
        "features = ['horsepower', 'curbweight', 'enginesize', 'highwaympg']\n",
        "X = data[features]\n",
        "y = data['price']\n",
        "\n",
        "X = X.fillna(X.mean())\n",
        "y = y.fillna(y.mean())"
      ]
    },
    {
      "cell_type": "code",
      "execution_count": null,
      "metadata": {
        "id": "gDbhE5jtE9lX"
      },
      "outputs": [],
      "source": [
        "# Feature Scaling\n",
        "from sklearn.preprocessing import StandardScaler # Import the StandardScaler class from sklearn.preprocessing\n",
        "\n",
        "scaler = StandardScaler()\n",
        "X_scaled = scaler.fit_transform(X)"
      ]
    },
    {
      "cell_type": "code",
      "execution_count": null,
      "metadata": {
        "id": "vaRKANU683ij"
      },
      "outputs": [],
      "source": [
        "# Splitting the dataset into training and testing sets\n",
        "X_train, X_test, y_train, y_test = train_test_split(X, y, test_size=0.2, random_state=42)\n"
      ]
    },
    {
      "cell_type": "code",
      "execution_count": null,
      "metadata": {
        "colab": {
          "base_uri": "https://localhost:8080/",
          "height": 74
        },
        "id": "vlTpgYsV-W5n",
        "outputId": "c506b6b4-9715-4085-8408-e0e8cb9a4924"
      },
      "outputs": [],
      "source": [
        "# Initialize the Linear Regression model\n",
        "model = LinearRegression()\n",
        "model.fit(X_train, y_train)"
      ]
    },
    {
      "cell_type": "code",
      "execution_count": null,
      "metadata": {
        "id": "n5fky6sE-cZE"
      },
      "outputs": [],
      "source": [
        "# Predicting on the test set\n",
        "y_pred = model.predict(X_test)"
      ]
    },
    {
      "cell_type": "code",
      "execution_count": null,
      "metadata": {
        "colab": {
          "base_uri": "https://localhost:8080/"
        },
        "id": "4Egenc49-hK0",
        "outputId": "123f707e-fdd2-455e-93fb-f9f797da3523"
      },
      "outputs": [],
      "source": [
        "# Calculating evaluation metrics\n",
        "mae = mean_absolute_error(y_test, y_pred)\n",
        "mse = mean_squared_error(y_test, y_pred)\n",
        "rmse = np.sqrt(mse)\n",
        "\n",
        "print(f'Mean Absolute Error (MAE): {mae}')\n",
        "print(f'Mean Squared Error (MSE): {mse}')\n",
        "print(f'Root Mean Squared Error (RMSE): {rmse}')"
      ]
    },
    {
      "cell_type": "markdown",
      "metadata": {
        "id": "h4S1jWDFFPBp"
      },
      "source": [
        "# **Data Visualization Techniques**"
      ]
    },
    {
      "cell_type": "code",
      "execution_count": null,
      "metadata": {
        "colab": {
          "base_uri": "https://localhost:8080/",
          "height": 557
        },
        "id": "LtTNYBsI-sgP",
        "outputId": "dcbe8d73-fc5a-44e7-ff90-86fae591fde7"
      },
      "outputs": [],
      "source": [
        "  # Actual vs Predicted prices\n",
        "plt.figure(figsize=(10, 6))\n",
        "plt.scatter(y_test, y_pred)\n",
        "plt.plot([0, max(y_test)], [0, max(y_test)], '--r')\n",
        "plt.xlabel('Actual Price')\n",
        "plt.ylabel('Predicted Price')\n",
        "plt.title('Actual vs Predicted Car Prices')\n",
        "plt.show()"
      ]
    },
    {
      "cell_type": "code",
      "execution_count": null,
      "metadata": {
        "colab": {
          "base_uri": "https://localhost:8080/",
          "height": 563
        },
        "id": "XelP4syP-0uR",
        "outputId": "bdb62934-7296-4433-c502-3dc87441bae7"
      },
      "outputs": [],
      "source": [
        "# Residual plot\n",
        "residuals = y_test - y_pred\n",
        "plt.figure(figsize=(10, 6))\n",
        "sns.histplot(residuals, kde=True)\n",
        "plt.title('Distribution of Residuals')\n",
        "plt.xlabel('Residual')\n",
        "plt.ylabel('Frequency')\n",
        "plt.show()"
      ]
    },
    {
      "cell_type": "code",
      "execution_count": null,
      "metadata": {
        "colab": {
          "base_uri": "https://localhost:8080/",
          "height": 550
        },
        "id": "N__5HAMU-v2G",
        "outputId": "bb7b8c5e-daf7-4516-b02e-89a4ff0b6788"
      },
      "outputs": [],
      "source": [
        "# Calculate residuals\n",
        "residuals = y_test - y_pred\n",
        "# Residual Plot vs Fitted Values\n",
        "plt.figure(figsize=(10, 6))\n",
        "plt.scatter(y_pred, residuals)\n",
        "plt.axhline(y=0, color='r', linestyle='--')\n",
        "plt.xlabel('Fitted Values')\n",
        "plt.ylabel('Residuals')\n",
        "plt.title('Residual Plot vs Fitted Values')\n",
        "plt.show()\n"
      ]
    },
    {
      "cell_type": "code",
      "execution_count": null,
      "metadata": {
        "colab": {
          "base_uri": "https://localhost:8080/",
          "height": 730
        },
        "id": "pNWedSFF_mKy",
        "outputId": "8cac2354-685d-4980-fe57-71f99930bc10"
      },
      "outputs": [],
      "source": [
        "# Feature vs Target Scatter Plots\n",
        "plt.figure(figsize=(12, 10))\n",
        "for i, feature in enumerate(features, 1):\n",
        "    plt.subplot(2, 2, i)\n",
        "    plt.scatter(data[feature], data['price'])\n",
        "    plt.xlabel(feature)\n",
        "    plt.ylabel('Price')\n",
        "    plt.title(f'{feature} vs Price')\n",
        "plt.tight_layout()\n",
        "plt.show()\n"
      ]
    },
    {
      "cell_type": "code",
      "execution_count": null,
      "metadata": {
        "colab": {
          "base_uri": "https://localhost:8080/",
          "height": 730
        },
        "id": "A-Rep_5aANoJ",
        "outputId": "1115baf2-0539-4db0-966c-18835aa7bfee"
      },
      "outputs": [],
      "source": [
        "# Distribution of Each Feature\n",
        "plt.figure(figsize=(12, 10))\n",
        "for i, feature in enumerate(features, 1):\n",
        "    plt.subplot(2, 2, i)\n",
        "    sns.histplot(data[feature], kde=True)\n",
        "    plt.title(f'Distribution of {feature}')\n",
        "    plt.xlabel(feature)\n",
        "    plt.ylabel('Frequency')\n",
        "plt.tight_layout()\n",
        "plt.show()\n"
      ]
    },
    {
      "cell_type": "code",
      "execution_count": null,
      "metadata": {
        "colab": {
          "base_uri": "https://localhost:8080/",
          "height": 636
        },
        "id": "ucTIxkE8_EdD",
        "outputId": "d774c122-b7aa-4b08-f242-6ea4064fb83a"
      },
      "outputs": [],
      "source": [
        "# Feature importance\n",
        "importance = model.coef_\n",
        "importance_df = pd.DataFrame({'Feature': features, 'Coefficient': importance})\n",
        "\n",
        "plt.figure(figsize=(10, 6))\n",
        "sns.barplot(x='Coefficient', y='Feature', data=importance_df, palette='viridis')\n",
        "plt.title('Feature Importance')\n",
        "plt.xlabel('Coefficient Value')\n",
        "plt.ylabel('Feature')\n",
        "plt.show()\n"
      ]
    },
    {
      "cell_type": "markdown",
      "metadata": {},
      "source": [
        "# ***PRICE PREDICTION HERE***"
      ]
    },
    {
      "cell_type": "code",
      "execution_count": null,
      "metadata": {
        "id": "aqjzLhGJAap7"
      },
      "outputs": [],
      "source": [
        "# Price predictor Function\n",
        "\n",
        "def predict_price(horsepower, curbweight, enginesize, highwaympg):\n",
        "    # Create a DataFrame with the input features\n",
        "    input_data = pd.DataFrame([[horsepower, curbweight, enginesize, highwaympg]],\n",
        "                              columns=['horsepower', 'curbweight', 'enginesize', 'highwaympg'])\n",
        "\n",
        "    # Predict the price using the trained model\n",
        "    predicted_price = model.predict(input_data)\n",
        "    return predicted_price[0]"
      ]
    },
    {
      "cell_type": "code",
      "execution_count": null,
      "metadata": {
        "colab": {
          "base_uri": "https://localhost:8080/"
        },
        "id": "RGS_DhjOBhmw",
        "outputId": "4a0346b0-22cf-422f-f76e-984593a6b89e"
      },
      "outputs": [],
      "source": [
        "# Usage:\n",
        "predicted_price = predict_price(horsepower=150, curbweight=3000, enginesize=2.5, highwaympg=25)\n",
        "print(f'Predicted Car Price: ${predicted_price:.2f}')"
      ]
    }
  ],
  "metadata": {
    "colab": {
      "collapsed_sections": [
        "Tp_WRu4UFuRO",
        "t4iNvMvDEPfl",
        "CCRfDKwaFoZm",
        "h4S1jWDFFPBp"
      ],
      "provenance": []
    },
    "kernelspec": {
      "display_name": "Python 3",
      "name": "python3"
    },
    "language_info": {
      "name": "python"
    }
  },
  "nbformat": 4,
  "nbformat_minor": 0
}
